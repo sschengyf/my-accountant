{
 "cells": [
  {
   "cell_type": "markdown",
   "id": "1d218d18-2689-446e-85a6-6817472f7a69",
   "metadata": {},
   "source": [
    "## Step 1: Train a model for the transaction categorization"
   ]
  },
  {
   "cell_type": "code",
   "execution_count": null,
   "id": "410166c9-853f-4bec-af1a-55ebe3fe7130",
   "metadata": {},
   "outputs": [],
   "source": [
    "import pandas as pd\n",
    "import numpy as np\n",
    "import joblib\n",
    "from sklearn.model_selection import train_test_split\n",
    "from sklearn.linear_model import LogisticRegression\n",
    "from sklearn.metrics import accuracy_score, classification_report\n",
    "from sentence_transformers import SentenceTransformer\n",
    "\n",
    "# Ask for the file path\n",
    "file_path = input(\"Enter the path to the dataset file: \")\n",
    "\n",
    "# Load your transaction data\n",
    "# Example CSV with 'payee' and 'category' columns\n",
    "df = pd.read_csv(file_path)\n",
    "\n",
    "# Extract payees and categories\n",
    "payees = df['Payee'].tolist()\n",
    "categories = df['Category'].tolist()\n",
    "\n",
    "# Use a sentence transformer model to generate embeddings\n",
    "model = SentenceTransformer('all-MiniLM-L6-v2')\n",
    "embeddings = model.encode(payees)\n",
    "\n",
    "# Split data into training and testing sets\n",
    "X_train, X_test, y_train, y_test = train_test_split(\n",
    "    embeddings, categories, test_size=0.2, random_state=42\n",
    ")\n",
    "\n",
    "# Train a simple logistic regression model\n",
    "clf = LogisticRegression(max_iter=1000)\n",
    "clf.fit(X_train, y_train)\n",
    "\n",
    "# Save the model\n",
    "joblib.dump(clf, 'models/transaction_classifier.pkl')\n",
    "np.save('models/transaction_embeddings.npy', embeddings)\n",
    "joblib.dump(categories, 'models/transaction_categories.pkl')\n",
    "\n",
    "# Evaluate the model\n",
    "y_pred = clf.predict(X_test)\n",
    "print(f\"Accuracy: {accuracy_score(y_test, y_pred)}\")\n",
    "print(classification_report(y_test, y_pred, zero_division=1))\n"
   ]
  },
  {
   "cell_type": "markdown",
   "id": "fc592d07-b17f-445e-ba8d-be803806b00f",
   "metadata": {},
   "source": [
    "## Step 2 - Use the trained model to categorize transaction"
   ]
  },
  {
   "cell_type": "code",
   "execution_count": null,
   "id": "d1076d95-003b-42df-a9cc-16f7b4235f78",
   "metadata": {},
   "outputs": [],
   "source": [
    "import joblib\n",
    "import numpy as np\n",
    "from sentence_transformers import SentenceTransformer\n",
    "import faiss\n",
    "\n",
    "# Load Model and Data\n",
    "clf = joblib.load('models/transaction_classifier.pkl')\n",
    "embeddings = np.load('models/transaction_embeddings.npy')\n",
    "categories = joblib.load('models/transaction_categories.pkl')\n",
    "\n",
    "# Set Up FAISS for Similarity Search\n",
    "d = embeddings.shape[1]\n",
    "index = faiss.IndexFlatL2(d)\n",
    "index.add(embeddings)\n",
    "\n",
    "# Function to categorize new transactions\n",
    "def categorize_transaction(payee, threshold=0.5):\n",
    "    vector = model.encode([payee.strip()])\n",
    "\n",
    "    D, I = index.search(vector, k=1)  # Get the closest match\n",
    "    if I[0][0] == -1:\n",
    "        return \"Uncategorized\"\n",
    "\n",
    "    predicted_category = categories[I[0][0]]\n",
    "    probability = max(clf.predict_proba(vector)[0])  # Get model confidence\n",
    "\n",
    "    if probability < threshold:\n",
    "        return f\"Not too sure: Please categorize manually ({predicted_category} suggested)\"\n",
    "\n",
    "    return predicted_category\n",
    "\n",
    "# Provide Payees\n",
    "payees = input(\"Enter payees separated by commas: \").split(',')\n",
    "\n",
    "for payee in payees:\n",
    "    print(f\"Category for {payee}: {categorize_transaction(payee)}\")"
   ]
  }
 ],
 "metadata": {
  "kernelspec": {
   "display_name": "Python 3 (ipykernel)",
   "language": "python",
   "name": "python3"
  },
  "language_info": {
   "codemirror_mode": {
    "name": "ipython",
    "version": 3
   },
   "file_extension": ".py",
   "mimetype": "text/x-python",
   "name": "python",
   "nbconvert_exporter": "python",
   "pygments_lexer": "ipython3",
   "version": "3.12.9"
  }
 },
 "nbformat": 4,
 "nbformat_minor": 5
}
