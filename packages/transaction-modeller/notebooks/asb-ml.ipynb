{
 "cells": [
  {
   "cell_type": "markdown",
   "id": "1d218d18-2689-446e-85a6-6817472f7a69",
   "metadata": {},
   "source": [
    "## Step 1: Train a model for the transaction categorization"
   ]
  },
  {
   "cell_type": "code",
   "execution_count": null,
   "id": "410166c9-853f-4bec-af1a-55ebe3fe7130",
   "metadata": {},
   "outputs": [],
   "source": [
    "import pandas as pd\n",
    "import numpy as np\n",
    "import joblib\n",
    "import faiss\n",
    "from sklearn.model_selection import train_test_split\n",
    "from sklearn.linear_model import LogisticRegression\n",
    "from sklearn.metrics import accuracy_score, classification_report\n",
    "from sentence_transformers import SentenceTransformer\n",
    "\n",
    "# Ask for the file path\n",
    "file_path = input(\"Enter the path to the dataset file: \")\n",
    "\n",
    "# Load your transaction data\n",
    "# Example CSV with 'Payee', 'Memo', and 'Category' columns\n",
    "df = pd.read_csv(file_path)\n",
    "\n",
    "# Combine Payee and Memo for better transaction context\n",
    "df['transaction_context'] = df['Payee'] + \" \" + df['Memo'].fillna(\"\") + \" \" + df['Tran Type'].fillna(\"\")\n",
    "\n",
    "# Extract combined text and categories\n",
    "transaction_contexts = df['transaction_context'].tolist()\n",
    "categories = df['Category'].fillna(\"\").tolist()\n",
    "\n",
    "# Use a sentence transformer model to generate embeddings\n",
    "model = SentenceTransformer('all-MiniLM-L6-v2')\n",
    "embeddings = model.encode(transaction_contexts, normalize_embeddings=True)\n",
    "\n",
    "# Split data into training and testing sets\n",
    "X_train, X_test, y_train, y_test = train_test_split(\n",
    "    embeddings, categories, test_size=0.2, random_state=42\n",
    ")\n",
    "\n",
    "# Train a simple logistic regression model\n",
    "clf = LogisticRegression(max_iter=1000)\n",
    "clf.fit(X_train, y_train)\n",
    "\n",
    "# Save the model\n",
    "joblib.dump(clf, 'models/transaction_classifier.pkl')\n",
    "np.save('models/transaction_embeddings.npy', embeddings)\n",
    "joblib.dump(categories, 'models/transaction_categories.pkl')\n",
    "\n",
    "# Build FAISS index\n",
    "d = embeddings.shape[1]\n",
    "index = faiss.IndexFlatL2(d)\n",
    "index.add(np.array(embeddings))\n",
    "faiss.write_index(index, 'models/transaction_faiss.index')\n",
    "\n",
    "# Evaluate the model\n",
    "y_pred = clf.predict(X_test)\n",
    "print(f\"Accuracy: {accuracy_score(y_test, y_pred)}\")\n",
    "print(classification_report(y_test, y_pred, zero_division=1))\n"
   ]
  },
  {
   "cell_type": "markdown",
   "id": "fc592d07-b17f-445e-ba8d-be803806b00f",
   "metadata": {},
   "source": [
    "## Step 2 - Use the trained model to categorize transaction"
   ]
  },
  {
   "cell_type": "code",
   "execution_count": null,
   "id": "d1076d95-003b-42df-a9cc-16f7b4235f78",
   "metadata": {},
   "outputs": [
    {
     "name": "stdout",
     "output_type": "stream",
     "text": [
      "Category for kfc: Food & Dining > Dining/Eating Out\n",
      "Category for  fuyao: Housing > Maintenance\n"
     ]
    },
    {
     "name": "stdout",
     "output_type": "stream",
     "text": [
      "Category for KFC: Food & Dining > Dining/Eating Out\n",
      "Category for  PB tech: Not too sure (0.3653024109084847): Please categorize manually (Digital device suggested)\n"
     ]
    }
   ],
   "source": [
    "import joblib\n",
    "import numpy as np\n",
    "from sentence_transformers import SentenceTransformer\n",
    "import faiss\n",
    "\n",
    "# Load Model and Data\n",
    "clf = joblib.load('models/transaction_classifier.pkl')\n",
    "index = faiss.read_index('models/transaction_faiss.index')\n",
    "categories = joblib.load('models/transaction_categories.pkl')\n",
    "\n",
    "# Function to categorize new transactions\n",
    "def categorize_transaction(payee, threshold=0.5):\n",
    "    vector = model.encode([payee.strip()])\n",
    "\n",
    "    D, I = index.search(vector, k=1)  # Get the closest match\n",
    "    if I[0][0] == -1:\n",
    "        return \"Uncategorized\"\n",
    "\n",
    "    predicted_category = categories[I[0][0]]\n",
    "    probability = max(clf.predict_proba(vector)[0])  # Get model confidence\n",
    "\n",
    "    if probability < threshold:\n",
    "        return f\"Not too sure ({probability}): Please categorize manually ({predicted_category} suggested)\"\n",
    "\n",
    "    return predicted_category\n",
    "\n",
    "# Provide Payees\n",
    "payees = input(\"Enter payees separated by commas: \").split(',')\n",
    "\n",
    "for payee in payees:\n",
    "    print(f\"Category for {payee}: {categorize_transaction(payee)}\")"
   ]
  },
  {
   "cell_type": "markdown",
   "id": "f315d0ee-e2a3-46bc-b6c8-88017e579a14",
   "metadata": {},
   "source": [
    "## Step 3 - Convert models to ONNX format"
   ]
  },
  {
   "cell_type": "code",
   "execution_count": null,
   "id": "e8f14780-7ebd-4169-9e79-2299f586bcab",
   "metadata": {},
   "outputs": [],
   "source": [
    "import joblib\n",
    "import json\n",
    "import skl2onnx\n",
    "from skl2onnx.common.data_types import FloatTensorType\n",
    "import onnx\n",
    "\n",
    "# Load classifier\n",
    "classifier = joblib.load(\"models/transaction_classifier.pkl\")\n",
    "\n",
    "# Debug: Print model information\n",
    "print(\"Model class:\", classifier.__class__)\n",
    "print(\"Number of features:\", classifier.n_features_in_)\n",
    "\n",
    "# Define input shape for conversion\n",
    "initial_type = [(\"float_input\", FloatTensorType([None, classifier.n_features_in_]))]\n",
    "\n",
    "# Convert to ONNX with opset 12\n",
    "try:\n",
    "    onnx_model = skl2onnx.convert_sklearn(\n",
    "        classifier,\n",
    "        initial_types=initial_type,\n",
    "        target_opset=13,\n",
    "        options={'zipmap': False}\n",
    "    )\n",
    "    print(\"✅ ONNX model converted successfully!\")\n",
    "except Exception as e:\n",
    "    print(\"❌ Error converting model to ONNX:\", e)\n",
    "    raise\n",
    "\n",
    "# Save ONNX model\n",
    "with open(\"models/transaction_classifier.onnx\", \"wb\") as f:\n",
    "    f.write(onnx_model.SerializeToString())\n",
    "\n",
    "print(\"✅ ONNX model saved!\")\n",
    "\n",
    "# Load category mappings\n",
    "categories = joblib.load(\"models/transaction_categories.pkl\")\n",
    "\n",
    "# Save as JSON\n",
    "with open(\"models/transaction_categories.json\", \"w\") as f:\n",
    "    json.dump(categories, f)\n",
    "\n",
    "print(\"✅ Categories saved as JSON!\")\n"
   ]
  },
  {
   "cell_type": "markdown",
   "id": "02d4ef45-fb02-40bd-bd43-153fd9bb73c8",
   "metadata": {},
   "source": [
    "## Step 4 - Verify ONNX"
   ]
  },
  {
   "cell_type": "code",
   "execution_count": null,
   "id": "79be7d4b-f673-418d-9bf9-81616abfa776",
   "metadata": {},
   "outputs": [],
   "source": [
    "import onnxruntime as ort\n",
    "import numpy as np\n",
    "import onnx\n",
    "\n",
    "# Load ONNX model\n",
    "model_path = \"models/transaction_classifier.onnx\"\n",
    "print(\"🔍 Verifying ONNX Model: \", model_path)\n",
    "onnx_model = onnx.load(model_path)\n",
    "\n",
    "# Check ONNX model details\n",
    "print(f\"✅ Model IR Version: {onnx_model.ir_version}\")\n",
    "print(f\"✅ Opset Version: {onnx_model.opset_import[0].version}\")\n",
    "\n",
    "# Initialize ONNX runtime session\n",
    "try:\n",
    "    session = ort.InferenceSession(model_path)\n",
    "    print(\"✅ ONNX Model Loaded Successfully!\")\n",
    "except Exception as e:\n",
    "    print(\"❌ Failed to Load ONNX Model:\", e)\n",
    "    exit()\n",
    "\n",
    "# Verify model inputs\n",
    "inputs = session.get_inputs()\n",
    "print(\"✅ Model Inputs:\")\n",
    "for inp in inputs:\n",
    "    print(f\"   - Name: {inp.name}, Shape: {inp.shape}, Type: {inp.type}\")\n",
    "\n",
    "# Create a test input (random vector with the correct size)\n",
    "input_name = inputs[0].name\n",
    "input_shape = inputs[0].shape\n",
    "\n",
    "test_input = np.random.rand(1, input_shape[1]).astype(np.float32)\n",
    "print(\"🔍 Test Input Shape:\", test_input.shape)\n",
    "\n",
    "# Run inference\n",
    "try:\n",
    "    output = session.run(None, {input_name: test_input})\n",
    "    print(\"✅ ONNX Model Output:\", output)\n",
    "except Exception as e:\n",
    "    print(\"❌ ONNX Model Inference Failed:\", e)\n"
   ]
  },
  {
   "cell_type": "code",
   "execution_count": null,
   "id": "cbf9be1b-b4e2-4cde-89f0-5f825c8ffb5d",
   "metadata": {},
   "outputs": [],
   "source": []
  }
 ],
 "metadata": {
  "kernelspec": {
   "display_name": "Python 3 (ipykernel)",
   "language": "python",
   "name": "python3"
  },
  "language_info": {
   "codemirror_mode": {
    "name": "ipython",
    "version": 3
   },
   "file_extension": ".py",
   "mimetype": "text/x-python",
   "name": "python",
   "nbconvert_exporter": "python",
   "pygments_lexer": "ipython3",
   "version": "3.12.10"
  }
 },
 "nbformat": 4,
 "nbformat_minor": 5
}
