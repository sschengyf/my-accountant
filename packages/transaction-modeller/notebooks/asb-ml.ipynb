{
 "cells": [
  {
   "cell_type": "markdown",
   "id": "1d218d18-2689-446e-85a6-6817472f7a69",
   "metadata": {},
   "source": [
    "## Step 1: Train a model for the transaction categorization"
   ]
  },
  {
   "cell_type": "code",
   "execution_count": 3,
   "id": "410166c9-853f-4bec-af1a-55ebe3fe7130",
   "metadata": {},
   "outputs": [
    {
     "name": "stdin",
     "output_type": "stream",
     "text": [
      "Enter the path to the dataset file:  data/ASB-Functor-2023-2025-data.csv\n"
     ]
    },
    {
     "name": "stdout",
     "output_type": "stream",
     "text": [
      "Accuracy: 0.7396694214876033\n",
      "                                   precision    recall  f1-score   support\n",
      "\n",
      "       Automobile > Car Insurance       1.00      0.00      0.00         1\n",
      "            Automobile > Gas/Fuel       1.00      0.50      0.67         6\n",
      "         Automobile > Maintenance       1.00      0.00      0.00         3\n",
      "             Automobile > Parking       0.50      1.00      0.67         1\n",
      " Bills > Electricity, Bills > Gas       0.00      1.00      0.00         0\n",
      " Bills > Gas, Bills > Electricity       1.00      0.50      0.67         2\n",
      "       Bills > Internet/Broadband       1.00      0.67      0.80         3\n",
      "             Bills > Mobile Phone       0.75      0.60      0.67         5\n",
      "                    Bills > Phone       1.00      0.00      0.00         1\n",
      "                    Bills > Water       1.00      1.00      1.00         3\n",
      "                          Cashout       1.00      0.00      0.00         1\n",
      "               Clothing > Clothes       1.00      0.00      0.00         4\n",
      "                     Company cost       0.65      0.62      0.63        21\n",
      "                Content insurance       1.00      1.00      1.00         3\n",
      "                   Digital > Apps       1.00      0.17      0.29         6\n",
      "                   Digital device       1.00      0.00      0.00         1\n",
      "                        Education       1.00      0.00      0.00         2\n",
      "Food & Dining > Dining/Eating Out       0.63      0.95      0.76        62\n",
      "        Food & Dining > Groceries       0.77      0.83      0.80        29\n",
      "                  House gardening       1.00      0.83      0.91        12\n",
      "  Housing > Furniture/Accessories       1.00      0.00      0.00         9\n",
      "            Housing > Maintenance       0.91      0.91      0.91        11\n",
      "                  Housing > Other       1.00      0.00      0.00         2\n",
      "          Leisure > Entertainment       1.00      0.00      0.00         1\n",
      "          Leisure > Personal Care       1.00      0.00      0.00         2\n",
      "                   Salary & Wages       1.00      1.00      1.00         8\n",
      "                            Taxes       1.00      1.00      1.00         3\n",
      "                   Transportation       1.00      0.60      0.75         5\n",
      "                           Travel       1.00      0.00      0.00         2\n",
      "                              nan       0.74      0.97      0.84        33\n",
      "\n",
      "                         accuracy                           0.74       242\n",
      "                        macro avg       0.90      0.47      0.45       242\n",
      "                     weighted avg       0.80      0.74      0.69       242\n",
      "\n"
     ]
    }
   ],
   "source": [
    "import pandas as pd\n",
    "import numpy as np\n",
    "import joblib\n",
    "from sklearn.model_selection import train_test_split\n",
    "from sklearn.linear_model import LogisticRegression\n",
    "from sklearn.metrics import accuracy_score, classification_report\n",
    "from sentence_transformers import SentenceTransformer\n",
    "\n",
    "# Ask for the file path\n",
    "file_path = input(\"Enter the path to the dataset file: \")\n",
    "\n",
    "# Load your transaction data\n",
    "# Example CSV with 'Payee', 'Memo', and 'Category' columns\n",
    "df = pd.read_csv(file_path)\n",
    "\n",
    "# Combine Payee and Memo for better transaction context\n",
    "df['transaction_context'] = df['Payee'] + \" \" + df['Memo'].fillna(\"\") + \" \" + df['Tran Type'].fillna(\"\")\n",
    "\n",
    "# Extract combined text and categories\n",
    "transaction_contexts = df['transaction_context'].tolist()\n",
    "categories = df['Category'].tolist()\n",
    "\n",
    "# Use a sentence transformer model to generate embeddings\n",
    "model = SentenceTransformer('all-MiniLM-L6-v2')\n",
    "embeddings = model.encode(transaction_contexts)\n",
    "\n",
    "# Split data into training and testing sets\n",
    "X_train, X_test, y_train, y_test = train_test_split(\n",
    "    embeddings, categories, test_size=0.2, random_state=42\n",
    ")\n",
    "\n",
    "# Train a simple logistic regression model\n",
    "clf = LogisticRegression(max_iter=1000)\n",
    "clf.fit(X_train, y_train)\n",
    "\n",
    "# Save the model\n",
    "joblib.dump(clf, 'models/transaction_classifier.pkl')\n",
    "np.save('models/transaction_embeddings.npy', embeddings)\n",
    "joblib.dump(categories, 'models/transaction_categories.pkl')\n",
    "\n",
    "# Evaluate the model\n",
    "y_pred = clf.predict(X_test)\n",
    "print(f\"Accuracy: {accuracy_score(y_test, y_pred)}\")\n",
    "print(classification_report(y_test, y_pred, zero_division=1))\n"
   ]
  },
  {
   "cell_type": "markdown",
   "id": "fc592d07-b17f-445e-ba8d-be803806b00f",
   "metadata": {},
   "source": [
    "## Step 2 - Use the trained model to categorize transaction"
   ]
  },
  {
   "cell_type": "code",
   "execution_count": 6,
   "id": "d1076d95-003b-42df-a9cc-16f7b4235f78",
   "metadata": {},
   "outputs": [
    {
     "name": "stdin",
     "output_type": "stream",
     "text": [
      "Enter payees separated by commas:  PB tech\n"
     ]
    },
    {
     "name": "stdout",
     "output_type": "stream",
     "text": [
      "Category for PB tech: Not too sure (0.3653024109084847): Please categorize manually (Digital device suggested)\n"
     ]
    }
   ],
   "source": [
    "import joblib\n",
    "import numpy as np\n",
    "from sentence_transformers import SentenceTransformer\n",
    "import faiss\n",
    "\n",
    "# Load Model and Data\n",
    "clf = joblib.load('models/transaction_classifier.pkl')\n",
    "embeddings = np.load('models/transaction_embeddings.npy')\n",
    "categories = joblib.load('models/transaction_categories.pkl')\n",
    "\n",
    "# Set Up FAISS for Similarity Search\n",
    "d = embeddings.shape[1]\n",
    "index = faiss.IndexFlatL2(d)\n",
    "index.add(embeddings)\n",
    "\n",
    "# Function to categorize new transactions\n",
    "def categorize_transaction(payee, threshold=0.5):\n",
    "    vector = model.encode([payee.strip()])\n",
    "\n",
    "    D, I = index.search(vector, k=1)  # Get the closest match\n",
    "    if I[0][0] == -1:\n",
    "        return \"Uncategorized\"\n",
    "\n",
    "    predicted_category = categories[I[0][0]]\n",
    "    probability = max(clf.predict_proba(vector)[0])  # Get model confidence\n",
    "\n",
    "    if probability < threshold:\n",
    "        return f\"Not too sure ({probability}): Please categorize manually ({predicted_category} suggested)\"\n",
    "\n",
    "    return predicted_category\n",
    "\n",
    "# Provide Payees\n",
    "payees = input(\"Enter payees separated by commas: \").split(',')\n",
    "\n",
    "for payee in payees:\n",
    "    print(f\"Category for {payee}: {categorize_transaction(payee)}\")"
   ]
  },
  {
   "cell_type": "code",
   "execution_count": null,
   "id": "4743fb14-af8a-4e95-aae4-3839367b9989",
   "metadata": {},
   "outputs": [],
   "source": []
  }
 ],
 "metadata": {
  "kernelspec": {
   "display_name": "Python 3 (ipykernel)",
   "language": "python",
   "name": "python3"
  },
  "language_info": {
   "codemirror_mode": {
    "name": "ipython",
    "version": 3
   },
   "file_extension": ".py",
   "mimetype": "text/x-python",
   "name": "python",
   "nbconvert_exporter": "python",
   "pygments_lexer": "ipython3",
   "version": "3.12.9"
  }
 },
 "nbformat": 4,
 "nbformat_minor": 5
}
